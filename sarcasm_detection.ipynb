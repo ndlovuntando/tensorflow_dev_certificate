{
  "nbformat": 4,
  "nbformat_minor": 0,
  "metadata": {
    "colab": {
      "name": "sarcasm_detection.ipynb",
      "provenance": [],
      "authorship_tag": "ABX9TyOG0UUpwDrcdlO9OO1mvV2b",
      "include_colab_link": true
    },
    "kernelspec": {
      "name": "python3",
      "display_name": "Python 3"
    },
    "language_info": {
      "name": "python"
    }
  },
  "cells": [
    {
      "cell_type": "markdown",
      "metadata": {
        "id": "view-in-github",
        "colab_type": "text"
      },
      "source": [
        "<a href=\"https://colab.research.google.com/github/ndlovuntando/tensorflow_dev_certificate/blob/main/sarcasm_detection.ipynb\" target=\"_parent\"><img src=\"https://colab.research.google.com/assets/colab-badge.svg\" alt=\"Open In Colab\"/></a>"
      ]
    },
    {
      "cell_type": "code",
      "metadata": {
        "id": "4ZjcVDh872OL"
      },
      "source": [
        "# import necessary libraries\n",
        "\n",
        "import json\n",
        "import tensorflow as tf\n",
        "\n",
        "from tensorflow.keras.preprocessing.text import Tokenizer\n",
        "from tensorflow.keras.preprocessing.sequence import pad_sequences"
      ],
      "execution_count": 2,
      "outputs": []
    },
    {
      "cell_type": "code",
      "metadata": {
        "id": "tNxxmwR98F-Z"
      },
      "source": [
        "vocab_size = 10000\n",
        "embedding_dim = 16\n",
        "max_length = 32\n",
        "trunc_type = 'post'\n",
        "oov_tok = \"<OOV>\"\n",
        "padding_type = 'post'\n",
        "training_size = 20000\n"
      ],
      "execution_count": 18,
      "outputs": []
    },
    {
      "cell_type": "code",
      "metadata": {
        "colab": {
          "base_uri": "https://localhost:8080/"
        },
        "id": "rwuzqCLV9szp",
        "outputId": "18c1305d-3204-43a8-b1d7-bad250287adb"
      },
      "source": [
        "# download sarcasm data\n",
        "!wget --no-check-certificate https://storage.googleapis.com/laurencemoroney-blog.appspot.com/sarcasm.json -O /tmp/sarcasm.json"
      ],
      "execution_count": 6,
      "outputs": [
        {
          "output_type": "stream",
          "text": [
            "--2021-05-13 23:06:26--  https://storage.googleapis.com/laurencemoroney-blog.appspot.com/sarcasm.json\n",
            "Resolving storage.googleapis.com (storage.googleapis.com)... 172.217.13.240, 172.217.15.80, 142.250.81.208, ...\n",
            "Connecting to storage.googleapis.com (storage.googleapis.com)|172.217.13.240|:443... connected.\n",
            "HTTP request sent, awaiting response... 200 OK\n",
            "Length: 5643545 (5.4M) [application/json]\n",
            "Saving to: ‘/tmp/sarcasm.json’\n",
            "\n",
            "/tmp/sarcasm.json   100%[===================>]   5.38M  --.-KB/s    in 0.05s   \n",
            "\n",
            "2021-05-13 23:06:27 (102 MB/s) - ‘/tmp/sarcasm.json’ saved [5643545/5643545]\n",
            "\n"
          ],
          "name": "stdout"
        }
      ]
    },
    {
      "cell_type": "code",
      "metadata": {
        "id": "g-f0gA98-DlX"
      },
      "source": [
        "with open(\"/tmp/sarcasm.json\", \"r\") as f:\n",
        "  datastore = json.load(f)"
      ],
      "execution_count": 7,
      "outputs": []
    },
    {
      "cell_type": "code",
      "metadata": {
        "id": "b2mOVb18-WJX"
      },
      "source": [
        "sentences = []\n",
        "labels = []\n",
        "\n",
        "for item in datastore:\n",
        "  sentences.append(item['headline'])\n",
        "  labels.append(item['is_sarcastic'])"
      ],
      "execution_count": 9,
      "outputs": []
    },
    {
      "cell_type": "code",
      "metadata": {
        "colab": {
          "base_uri": "https://localhost:8080/"
        },
        "id": "kVpPprd--jjQ",
        "outputId": "7e0a42fb-57fb-48f6-def7-d78cbc5f0191"
      },
      "source": [
        "sentences[:4]"
      ],
      "execution_count": 10,
      "outputs": [
        {
          "output_type": "execute_result",
          "data": {
            "text/plain": [
              "[\"former versace store clerk sues over secret 'black code' for minority shoppers\",\n",
              " \"the 'roseanne' revival catches up to our thorny political mood, for better and worse\",\n",
              " \"mom starting to fear son's web series closest thing she will have to grandchild\",\n",
              " 'boehner just wants wife to listen, not come up with alternative debt-reduction ideas']"
            ]
          },
          "metadata": {
            "tags": []
          },
          "execution_count": 10
        }
      ]
    },
    {
      "cell_type": "code",
      "metadata": {
        "colab": {
          "base_uri": "https://localhost:8080/"
        },
        "id": "diZ_5DK2-nTv",
        "outputId": "7a018a3d-5cab-46b9-fff5-60c5eef454c2"
      },
      "source": [
        "labels[:4]"
      ],
      "execution_count": 12,
      "outputs": [
        {
          "output_type": "execute_result",
          "data": {
            "text/plain": [
              "[0, 0, 1, 1]"
            ]
          },
          "metadata": {
            "tags": []
          },
          "execution_count": 12
        }
      ]
    },
    {
      "cell_type": "code",
      "metadata": {
        "id": "pHGC0K5l-qJw"
      },
      "source": [
        "# Splitting train and test data\n",
        "training_sentences = sentences[0:training_size]\n",
        "testing_sentences = sentences[training_size:]\n",
        "\n",
        "# splitting train and test labels\n",
        "training_labels = labels[0:training_size]\n",
        "testing_labels = labels[training_size:]"
      ],
      "execution_count": 13,
      "outputs": []
    },
    {
      "cell_type": "code",
      "metadata": {
        "id": "N3DaP6DzBITj"
      },
      "source": [
        "tokenizer = Tokenizer(num_words=vocab_size, oov_token=oov_tok)\n",
        "tokenizer.fit_on_texts(training_sentences)"
      ],
      "execution_count": 14,
      "outputs": []
    },
    {
      "cell_type": "code",
      "metadata": {
        "id": "3aS6fEzFB2Jt"
      },
      "source": [
        "word_index = tokenizer.word_index"
      ],
      "execution_count": 15,
      "outputs": []
    },
    {
      "cell_type": "code",
      "metadata": {
        "id": "roSQLZQMB6Ko"
      },
      "source": [
        "\n",
        "training_sequences = tokenizer.texts_to_sequences(training_sentences)\n",
        "training_padded = pad_sequences(training_sequences, maxlen=max_length, padding=padding_type, truncating=trunc_type)\n",
        "\n",
        "testing_sequences = tokenizer.texts_to_sequences(testing_sentences)\n",
        "testing_padded = pad_sequences(testing_sequences, maxlen=max_length, padding=padding_type, truncating=trunc_type)"
      ],
      "execution_count": 20,
      "outputs": []
    },
    {
      "cell_type": "code",
      "metadata": {
        "id": "HFZFCoAqD1dF"
      },
      "source": [
        "import numpy as np\n",
        "training_padded = np.array(training_padded)\n",
        "training_labels = np.array(training_labels)\n",
        "testing_padded = np.array(testing_padded)\n",
        "testing_labels = np.array(testing_labels)"
      ],
      "execution_count": 21,
      "outputs": []
    },
    {
      "cell_type": "code",
      "metadata": {
        "id": "fvBcK9_yC4Sv"
      },
      "source": [
        "model = tf.keras.Sequential([\n",
        "    tf.keras.layers.Embedding(vocab_size, embedding_dim, input_length=max_length),\n",
        "    tf.keras.layers.GlobalAveragePooling1D(),\n",
        "    tf.keras.layers.Dense(24, activation='relu'),\n",
        "    tf.keras.layers.Dense(1, activation='sigmoid')\n",
        "])\n",
        "model.compile(loss='binary_crossentropy',optimizer='adam',metrics=['accuracy'])"
      ],
      "execution_count": 22,
      "outputs": []
    },
    {
      "cell_type": "code",
      "metadata": {
        "colab": {
          "base_uri": "https://localhost:8080/"
        },
        "id": "ED4-Qig9EDSJ",
        "outputId": "38d23c9e-7e76-47e3-ac1e-b7966166a6e3"
      },
      "source": [
        "model.summary()"
      ],
      "execution_count": 23,
      "outputs": [
        {
          "output_type": "stream",
          "text": [
            "Model: \"sequential\"\n",
            "_________________________________________________________________\n",
            "Layer (type)                 Output Shape              Param #   \n",
            "=================================================================\n",
            "embedding (Embedding)        (None, 32, 16)            160000    \n",
            "_________________________________________________________________\n",
            "global_average_pooling1d (Gl (None, 16)                0         \n",
            "_________________________________________________________________\n",
            "dense (Dense)                (None, 24)                408       \n",
            "_________________________________________________________________\n",
            "dense_1 (Dense)              (None, 1)                 25        \n",
            "=================================================================\n",
            "Total params: 160,433\n",
            "Trainable params: 160,433\n",
            "Non-trainable params: 0\n",
            "_________________________________________________________________\n"
          ],
          "name": "stdout"
        }
      ]
    },
    {
      "cell_type": "code",
      "metadata": {
        "id": "AINYLNNXEHBF"
      },
      "source": [
        ""
      ],
      "execution_count": null,
      "outputs": []
    },
    {
      "cell_type": "code",
      "metadata": {
        "id": "2DTKQFf1kkyc",
        "colab": {
          "base_uri": "https://localhost:8080/"
        },
        "outputId": "4e7d5b99-deba-42a4-86cf-7f8e2baaf74d"
      },
      "source": [
        "num_epochs = 30\n",
        "history = model.fit(training_padded, training_labels, epochs=num_epochs, validation_data=(testing_padded, testing_labels), verbose=2)"
      ],
      "execution_count": 24,
      "outputs": [
        {
          "output_type": "stream",
          "text": [
            "Epoch 1/30\n",
            "625/625 - 3s - loss: 0.5590 - accuracy: 0.7035 - val_loss: 0.3953 - val_accuracy: 0.8268\n",
            "Epoch 2/30\n",
            "625/625 - 2s - loss: 0.3048 - accuracy: 0.8759 - val_loss: 0.3596 - val_accuracy: 0.8371\n",
            "Epoch 3/30\n",
            "625/625 - 2s - loss: 0.2282 - accuracy: 0.9112 - val_loss: 0.3473 - val_accuracy: 0.8515\n",
            "Epoch 4/30\n",
            "625/625 - 2s - loss: 0.1848 - accuracy: 0.9310 - val_loss: 0.3650 - val_accuracy: 0.8527\n",
            "Epoch 5/30\n",
            "625/625 - 2s - loss: 0.1531 - accuracy: 0.9445 - val_loss: 0.3957 - val_accuracy: 0.8475\n",
            "Epoch 6/30\n",
            "625/625 - 2s - loss: 0.1285 - accuracy: 0.9554 - val_loss: 0.4374 - val_accuracy: 0.8471\n",
            "Epoch 7/30\n",
            "625/625 - 2s - loss: 0.1099 - accuracy: 0.9628 - val_loss: 0.4696 - val_accuracy: 0.8423\n",
            "Epoch 8/30\n",
            "625/625 - 2s - loss: 0.0943 - accuracy: 0.9682 - val_loss: 0.5157 - val_accuracy: 0.8384\n",
            "Epoch 9/30\n",
            "625/625 - 2s - loss: 0.0812 - accuracy: 0.9729 - val_loss: 0.5706 - val_accuracy: 0.8338\n",
            "Epoch 10/30\n",
            "625/625 - 2s - loss: 0.0716 - accuracy: 0.9782 - val_loss: 0.6128 - val_accuracy: 0.8311\n",
            "Epoch 11/30\n",
            "625/625 - 2s - loss: 0.0624 - accuracy: 0.9796 - val_loss: 0.6688 - val_accuracy: 0.8280\n",
            "Epoch 12/30\n",
            "625/625 - 2s - loss: 0.0544 - accuracy: 0.9830 - val_loss: 0.7272 - val_accuracy: 0.8234\n",
            "Epoch 13/30\n",
            "625/625 - 2s - loss: 0.0476 - accuracy: 0.9853 - val_loss: 0.7918 - val_accuracy: 0.8176\n",
            "Epoch 14/30\n",
            "625/625 - 2s - loss: 0.0417 - accuracy: 0.9883 - val_loss: 0.8380 - val_accuracy: 0.8168\n",
            "Epoch 15/30\n",
            "625/625 - 2s - loss: 0.0360 - accuracy: 0.9898 - val_loss: 0.9034 - val_accuracy: 0.8171\n",
            "Epoch 16/30\n",
            "625/625 - 2s - loss: 0.0322 - accuracy: 0.9902 - val_loss: 0.9649 - val_accuracy: 0.8147\n",
            "Epoch 17/30\n",
            "625/625 - 2s - loss: 0.0286 - accuracy: 0.9914 - val_loss: 1.0196 - val_accuracy: 0.8106\n",
            "Epoch 18/30\n",
            "625/625 - 2s - loss: 0.0249 - accuracy: 0.9934 - val_loss: 1.0737 - val_accuracy: 0.8137\n",
            "Epoch 19/30\n",
            "625/625 - 2s - loss: 0.0226 - accuracy: 0.9938 - val_loss: 1.1354 - val_accuracy: 0.8095\n",
            "Epoch 20/30\n",
            "625/625 - 2s - loss: 0.0203 - accuracy: 0.9940 - val_loss: 1.1997 - val_accuracy: 0.8095\n",
            "Epoch 21/30\n",
            "625/625 - 2s - loss: 0.0183 - accuracy: 0.9948 - val_loss: 1.2391 - val_accuracy: 0.8089\n",
            "Epoch 22/30\n",
            "625/625 - 2s - loss: 0.0162 - accuracy: 0.9955 - val_loss: 1.3326 - val_accuracy: 0.8044\n",
            "Epoch 23/30\n",
            "625/625 - 2s - loss: 0.0155 - accuracy: 0.9956 - val_loss: 1.3573 - val_accuracy: 0.8055\n",
            "Epoch 24/30\n",
            "625/625 - 2s - loss: 0.0124 - accuracy: 0.9969 - val_loss: 1.4419 - val_accuracy: 0.8061\n",
            "Epoch 25/30\n",
            "625/625 - 2s - loss: 0.0127 - accuracy: 0.9962 - val_loss: 1.4798 - val_accuracy: 0.8021\n",
            "Epoch 26/30\n",
            "625/625 - 2s - loss: 0.0113 - accuracy: 0.9963 - val_loss: 1.5615 - val_accuracy: 0.8037\n",
            "Epoch 27/30\n",
            "625/625 - 2s - loss: 0.0111 - accuracy: 0.9966 - val_loss: 1.5966 - val_accuracy: 0.8003\n",
            "Epoch 28/30\n",
            "625/625 - 2s - loss: 0.0091 - accuracy: 0.9975 - val_loss: 1.7153 - val_accuracy: 0.8041\n",
            "Epoch 29/30\n",
            "625/625 - 2s - loss: 0.0079 - accuracy: 0.9979 - val_loss: 1.7248 - val_accuracy: 0.8030\n",
            "Epoch 30/30\n",
            "625/625 - 2s - loss: 0.0080 - accuracy: 0.9977 - val_loss: 1.7813 - val_accuracy: 0.8030\n"
          ],
          "name": "stdout"
        }
      ]
    },
    {
      "cell_type": "code",
      "metadata": {
        "colab": {
          "base_uri": "https://localhost:8080/",
          "height": 541
        },
        "id": "a3B_GARHEOGP",
        "outputId": "515e98c9-2c22-4a36-94e8-a9c9a5461742"
      },
      "source": [
        "import matplotlib.pyplot as plt\n",
        "\n",
        "\n",
        "def plot_graphs(history, string):\n",
        "  plt.plot(history.history[string])\n",
        "  plt.plot(history.history['val_'+string])\n",
        "  plt.xlabel(\"Epochs\")\n",
        "  plt.ylabel(string)\n",
        "  plt.legend([string, 'val_'+string])\n",
        "  plt.show()\n",
        "  \n",
        "plot_graphs(history, \"accuracy\")\n",
        "plot_graphs(history, \"loss\")"
      ],
      "execution_count": 25,
      "outputs": [
        {
          "output_type": "display_data",
          "data": {
            "image/png": "[encoded data removed]",
            "text/plain": [
              "<Figure size 432x288 with 1 Axes>"
            ]
          },
          "metadata": {
            "tags": [],
            "needs_background": "light"
          }
        },
        {
          "output_type": "display_data",
          "data": {
            "image/png": "[encoded data removed]",
            "text/plain": [
              "<Figure size 432x288 with 1 Axes>"
            ]
          },
          "metadata": {
            "tags": [],
            "needs_background": "light"
          }
        }
      ]
    },
    {
      "cell_type": "code",
      "metadata": {
        "colab": {
          "base_uri": "https://localhost:8080/"
        },
        "id": "AeY9f3siEb0D",
        "outputId": "ebdd0a53-3e4f-4651-a479-6ad378222b0a"
      },
      "source": [
        "reverse_word_index = dict([(value, key) for (key, value) in word_index.items()])\n",
        "\n",
        "def decode_sentence(text):\n",
        "    return ' '.join([reverse_word_index.get(i, '?') for i in text])\n",
        "\n",
        "print(decode_sentence(training_padded[0]))\n",
        "print(training_sentences[2])\n",
        "print(labels[2])"
      ],
      "execution_count": 26,
      "outputs": [
        {
          "output_type": "stream",
          "text": [
            "former <OOV> store clerk sues over secret 'black <OOV> for minority shoppers ? ? ? ? ? ? ? ? ? ? ? ? ? ? ? ? ? ? ? ?\n",
            "mom starting to fear son's web series closest thing she will have to grandchild\n",
            "1\n"
          ],
          "name": "stdout"
        }
      ]
    },
    {
      "cell_type": "code",
      "metadata": {
        "colab": {
          "base_uri": "https://localhost:8080/"
        },
        "id": "1j2kUCN0EjUO",
        "outputId": "c17c4884-3280-4076-9f12-884a958f0cc6"
      },
      "source": [
        "e = model.layers[0]\n",
        "weights = e.get_weights()[0]\n",
        "print(weights.shape) # shape: (vocab_size, embedding_dim)\n"
      ],
      "execution_count": 27,
      "outputs": [
        {
          "output_type": "stream",
          "text": [
            "(10000, 16)\n"
          ],
          "name": "stdout"
        }
      ]
    },
    {
      "cell_type": "code",
      "metadata": {
        "id": "SJsUx6aWEjaX"
      },
      "source": [
        "import io\n",
        "\n",
        "out_v = io.open('vecs.tsv', 'w', encoding='utf-8')\n",
        "out_m = io.open('meta.tsv', 'w', encoding='utf-8')\n",
        "for word_num in range(1, vocab_size):\n",
        "  word = reverse_word_index[word_num]\n",
        "  embeddings = weights[word_num]\n",
        "  out_m.write(word + \"\\n\")\n",
        "  out_v.write('\\t'.join([str(x) for x in embeddings]) + \"\\n\")\n",
        "out_v.close()\n",
        "out_m.close()"
      ],
      "execution_count": 28,
      "outputs": []
    },
    {
      "cell_type": "code",
      "metadata": {
        "colab": {
          "base_uri": "https://localhost:8080/",
          "height": 17
        },
        "id": "x94_wz8AEjd2",
        "outputId": "454fff45-8027-4238-b9be-36444a66f6c8"
      },
      "source": [
        "try:\n",
        "  from google.colab import files\n",
        "except ImportError:\n",
        "  pass\n",
        "else:\n",
        "  files.download('vecs.tsv')\n",
        "  files.download('meta.tsv')"
      ],
      "execution_count": 29,
      "outputs": [
        {
          "output_type": "display_data",
          "data": {
            "application/javascript": [
              "\n",
              "    async function download(id, filename, size) {\n",
              "      if (!google.colab.kernel.accessAllowed) {\n",
              "        return;\n",
              "      }\n",
              "      const div = document.createElement('div');\n",
              "      const label = document.createElement('label');\n",
              "      label.textContent = `Downloading \"${filename}\": `;\n",
              "      div.appendChild(label);\n",
              "      const progress = document.createElement('progress');\n",
              "      progress.max = size;\n",
              "      div.appendChild(progress);\n",
              "      document.body.appendChild(div);\n",
              "\n",
              "      const buffers = [];\n",
              "      let downloaded = 0;\n",
              "\n",
              "      const channel = await google.colab.kernel.comms.open(id);\n",
              "      // Send a message to notify the kernel that we're ready.\n",
              "      channel.send({})\n",
              "\n",
              "      for await (const message of channel.messages) {\n",
              "        // Send a message to notify the kernel that we're ready.\n",
              "        channel.send({})\n",
              "        if (message.buffers) {\n",
              "          for (const buffer of message.buffers) {\n",
              "            buffers.push(buffer);\n",
              "            downloaded += buffer.byteLength;\n",
              "            progress.value = downloaded;\n",
              "          }\n",
              "        }\n",
              "      }\n",
              "      const blob = new Blob(buffers, {type: 'application/binary'});\n",
              "      const a = document.createElement('a');\n",
              "      a.href = window.URL.createObjectURL(blob);\n",
              "      a.download = filename;\n",
              "      div.appendChild(a);\n",
              "      a.click();\n",
              "      div.remove();\n",
              "    }\n",
              "  "
            ],
            "text/plain": [
              "<IPython.core.display.Javascript object>"
            ]
          },
          "metadata": {
            "tags": []
          }
        },
        {
          "output_type": "display_data",
          "data": {
            "application/javascript": [
              "download(\"download_651b3702-e856-43f3-8ce1-1e350c567a42\", \"vecs.tsv\", 1843501)"
            ],
            "text/plain": [
              "<IPython.core.display.Javascript object>"
            ]
          },
          "metadata": {
            "tags": []
          }
        },
        {
          "output_type": "display_data",
          "data": {
            "application/javascript": [
              "\n",
              "    async function download(id, filename, size) {\n",
              "      if (!google.colab.kernel.accessAllowed) {\n",
              "        return;\n",
              "      }\n",
              "      const div = document.createElement('div');\n",
              "      const label = document.createElement('label');\n",
              "      label.textContent = `Downloading \"${filename}\": `;\n",
              "      div.appendChild(label);\n",
              "      const progress = document.createElement('progress');\n",
              "      progress.max = size;\n",
              "      div.appendChild(progress);\n",
              "      document.body.appendChild(div);\n",
              "\n",
              "      const buffers = [];\n",
              "      let downloaded = 0;\n",
              "\n",
              "      const channel = await google.colab.kernel.comms.open(id);\n",
              "      // Send a message to notify the kernel that we're ready.\n",
              "      channel.send({})\n",
              "\n",
              "      for await (const message of channel.messages) {\n",
              "        // Send a message to notify the kernel that we're ready.\n",
              "        channel.send({})\n",
              "        if (message.buffers) {\n",
              "          for (const buffer of message.buffers) {\n",
              "            buffers.push(buffer);\n",
              "            downloaded += buffer.byteLength;\n",
              "            progress.value = downloaded;\n",
              "          }\n",
              "        }\n",
              "      }\n",
              "      const blob = new Blob(buffers, {type: 'application/binary'});\n",
              "      const a = document.createElement('a');\n",
              "      a.href = window.URL.createObjectURL(blob);\n",
              "      a.download = filename;\n",
              "      div.appendChild(a);\n",
              "      a.click();\n",
              "      div.remove();\n",
              "    }\n",
              "  "
            ],
            "text/plain": [
              "<IPython.core.display.Javascript object>"
            ]
          },
          "metadata": {
            "tags": []
          }
        },
        {
          "output_type": "display_data",
          "data": {
            "application/javascript": [
              "download(\"download_01438c3d-6659-467e-ac97-e7e3c2dfc804\", \"meta.tsv\", 75974)"
            ],
            "text/plain": [
              "<IPython.core.display.Javascript object>"
            ]
          },
          "metadata": {
            "tags": []
          }
        }
      ]
    },
    {
      "cell_type": "code",
      "metadata": {
        "colab": {
          "base_uri": "https://localhost:8080/"
        },
        "id": "HpV2ObKrEjkE",
        "outputId": "4b0bd84d-3c6b-436c-a6dd-cf4d99b4fa01"
      },
      "source": [
        "sentence = [\"granny starting to fear spiders in the garden might be real\", \"game of thrones season finale showing this sunday night\"]\n",
        "sequences = tokenizer.texts_to_sequences(sentence)\n",
        "padded = pad_sequences(sequences, maxlen=max_length, padding=padding_type, truncating=trunc_type)\n",
        "print(model.predict(padded))"
      ],
      "execution_count": 30,
      "outputs": [
        {
          "output_type": "stream",
          "text": [
            "[[9.9846554e-01]\n",
            " [7.8463602e-10]]\n"
          ],
          "name": "stdout"
        }
      ]
    },
    {
      "cell_type": "code",
      "metadata": {
        "id": "hP2hpcvLFGxG"
      },
      "source": [
        ""
      ],
      "execution_count": null,
      "outputs": []
    }
  ]
}